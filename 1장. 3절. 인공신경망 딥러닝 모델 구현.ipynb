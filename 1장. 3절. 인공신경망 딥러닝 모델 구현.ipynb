{
 "cells": [
  {
   "cell_type": "markdown",
   "id": "d8a24568",
   "metadata": {},
   "source": [
    "# 인공신경망 딥러닝 모델 구현"
   ]
  },
  {
   "cell_type": "markdown",
   "id": "0c659969",
   "metadata": {},
   "source": [
    "## iris 데이터 불러오기"
   ]
  },
  {
   "cell_type": "code",
   "execution_count": null,
   "id": "excited-tractor",
   "metadata": {
    "ExecuteTime": {
     "end_time": "2023-09-19T07:27:40.530478Z",
     "start_time": "2023-09-19T07:27:40.523369Z"
    }
   },
   "outputs": [],
   "source": [
    "from sklearn import datasets"
   ]
  },
  {
   "cell_type": "code",
   "execution_count": null,
   "id": "handled-scale",
   "metadata": {
    "ExecuteTime": {
     "end_time": "2023-09-19T07:27:41.878542Z",
     "start_time": "2023-09-19T07:27:41.230917Z"
    }
   },
   "outputs": [],
   "source": [
    "iris = datasets.load_iris()\n",
    "X = iris.data\n",
    "y = iris.target"
   ]
  },
  {
   "cell_type": "code",
   "execution_count": null,
   "id": "gothic-madness",
   "metadata": {
    "ExecuteTime": {
     "end_time": "2023-09-19T07:27:44.392372Z",
     "start_time": "2023-09-19T07:27:44.328355Z"
    }
   },
   "outputs": [],
   "source": [
    "from sklearn.model_selection import train_test_split\n",
    "X_train, X_test, y_train, y_test = train_test_split(X, y, test_size=0.3,\n",
    "                                                    random_state=1)"
   ]
  },
  {
   "cell_type": "markdown",
   "id": "3290eda0",
   "metadata": {},
   "source": [
    "## 싸이킷런을 이용한 구현"
   ]
  },
  {
   "cell_type": "code",
   "execution_count": null,
   "id": "civilian-fifth",
   "metadata": {
    "ExecuteTime": {
     "end_time": "2023-09-19T07:27:45.815439Z",
     "start_time": "2023-09-19T07:27:45.793167Z"
    }
   },
   "outputs": [],
   "source": [
    "from sklearn.neural_network import MLPClassifier\n",
    "mlp = MLPClassifier(hidden_layer_sizes=(50,30), activation=\"logistic\", solver=\"adam\",\n",
    "                    max_iter=1000) "
   ]
  },
  {
   "cell_type": "code",
   "execution_count": null,
   "id": "painted-hygiene",
   "metadata": {
    "ExecuteTime": {
     "end_time": "2023-09-19T07:27:48.068385Z",
     "start_time": "2023-09-19T07:27:47.603020Z"
    },
    "scrolled": true
   },
   "outputs": [],
   "source": [
    "mlp.fit(X_train, y_train)"
   ]
  },
  {
   "cell_type": "code",
   "execution_count": null,
   "id": "thorough-intent",
   "metadata": {
    "ExecuteTime": {
     "end_time": "2023-09-19T07:27:49.155925Z",
     "start_time": "2023-09-19T07:27:49.139449Z"
    }
   },
   "outputs": [],
   "source": [
    "mlp.score(X_test, y_test)"
   ]
  },
  {
   "cell_type": "code",
   "execution_count": null,
   "id": "capable-packing",
   "metadata": {
    "ExecuteTime": {
     "end_time": "2023-09-19T07:27:50.095942Z",
     "start_time": "2023-09-19T07:27:50.087968Z"
    }
   },
   "outputs": [],
   "source": [
    "pred = mlp.predict(X_test)"
   ]
  },
  {
   "cell_type": "code",
   "execution_count": null,
   "id": "developmental-married",
   "metadata": {
    "ExecuteTime": {
     "end_time": "2023-09-19T07:27:50.943442Z",
     "start_time": "2023-09-19T07:27:50.895221Z"
    }
   },
   "outputs": [],
   "source": [
    "import pandas as pd\n",
    "pd.crosstab(pred, y_test) #교차분류표\n",
    "# pd.crosstab(np.argmax(pred, axis=1), np.argmax(y_test, axis=1)) #교차분류표"
   ]
  },
  {
   "cell_type": "markdown",
   "id": "tender-chess",
   "metadata": {},
   "source": [
    "## 파이토치를 이용한 구현"
   ]
  },
  {
   "cell_type": "code",
   "execution_count": null,
   "id": "d05eaf47",
   "metadata": {},
   "outputs": [],
   "source": [
    "import torch\n",
    "torch.__version__"
   ]
  },
  {
   "cell_type": "code",
   "execution_count": null,
   "id": "480dca0b-6aa5-40cb-99d2-179f31a47733",
   "metadata": {},
   "outputs": [],
   "source": [
    "from sklearn import datasets\n",
    "iris = datasets.load_iris()\n",
    "X, y = iris.data, iris.target\n",
    "from sklearn.model_selection import train_test_split\n",
    "X_train, X_test, y_train, y_test = train_test_split(X, y, test_size=0.3, random_state=1)"
   ]
  },
  {
   "cell_type": "code",
   "execution_count": null,
   "id": "threaded-morgan",
   "metadata": {
    "ExecuteTime": {
     "end_time": "2023-09-19T07:28:12.946052Z",
     "start_time": "2023-09-19T07:28:12.826329Z"
    }
   },
   "outputs": [],
   "source": [
    "import torch.nn as nn\n",
    "from torchsummary import summary\n",
    "model = nn.Sequential(\n",
    "    nn.Linear(4, 50),\n",
    "    nn.Sigmoid(),\n",
    "    nn.Linear(50, 30),\n",
    "    nn.Sigmoid(),\n",
    "    nn.Linear(30, 3),\n",
    "    nn.Sigmoid()\n",
    ")\n",
    "summary(model, input_size=(1,4))"
   ]
  },
  {
   "cell_type": "code",
   "execution_count": null,
   "id": "26e82423-0105-4fea-91ad-e6847589763a",
   "metadata": {},
   "outputs": [],
   "source": [
    "import torch.optim as optim\n",
    "criterion = nn.CrossEntropyLoss()\n",
    "optimizer = optim.Adam(params=model.parameters(), lr=0.01)"
   ]
  },
  {
   "cell_type": "code",
   "execution_count": null,
   "id": "152d9d49-1970-40ea-87a8-9fd8d9bbcf51",
   "metadata": {},
   "outputs": [],
   "source": [
    "from torch.utils.data import DataLoader, TensorDataset\n",
    "# 훈련 데이터 로더 정의\n",
    "X_train_tensor = torch.tensor(X_train, dtype=torch.float32)\n",
    "y_train_tensor = torch.tensor(y_train, dtype=torch.long)\n",
    "train_dataset = TensorDataset(X_train_tensor, y_train_tensor)\n",
    "train_loader = DataLoader(train_dataset, batch_size=32, shuffle=True)\n",
    "# 테스트 데이터 로더 정의\n",
    "X_test_tensor = torch.tensor(X_test, dtype=torch.float32)\n",
    "y_test_tensor = torch.tensor(y_test, dtype=torch.long)\n",
    "test_dataset = TensorDataset(X_test_tensor, y_test_tensor)\n",
    "test_loader = DataLoader(test_dataset, batch_size=32, shuffle=False)"
   ]
  },
  {
   "cell_type": "code",
   "execution_count": null,
   "id": "d1b8a360-1fa0-4954-8075-db563000a79a",
   "metadata": {},
   "outputs": [],
   "source": [
    "def train(model, train_loader, criterion, optimizer, epochs=100):\n",
    "    model.train()  # 모델을 학습 모드로 설정\n",
    "    for epoch in range(epochs):\n",
    "        running_loss = 0.0  # 현재 epoch의 누적 손실 초기화\n",
    "        for data, target in train_loader:  # 미니배치 단위로 데이터 로드\n",
    "            optimizer.zero_grad()  # 옵티마이저의 기울기 버퍼 초기화\n",
    "            output = model(data)   # 모델을 통해 예측값 계산\n",
    "            loss = criterion(output, target)  # 손실 계산\n",
    "            loss.backward()  # 역전파를 통해 기울기 계산\n",
    "            optimizer.step()  # 옵티마이저를 통해 가중치 업데이트\n",
    "            running_loss += loss.item()  # 손실 누적\n",
    "        # epoch 종료 후 평균 손실 출력\n",
    "        print(f'Epoch {epoch+1}, Loss: {running_loss/len(train_loader)}')\n",
    "\n",
    "# 모델 학습\n",
    "train(model, train_loader, criterion, optimizer)"
   ]
  },
  {
   "cell_type": "code",
   "execution_count": null,
   "id": "1745f6f4-9493-4127-8a8f-fe9d4727d86b",
   "metadata": {},
   "outputs": [],
   "source": [
    "# 예측 함수 정의\n",
    "def predict(model, test_loader):\n",
    "    model.eval()  # 모델을 평가 모드로 설정\n",
    "    predictions = []  # 예측값을 저장할 리스트 초기화\n",
    "    with torch.no_grad():  # 기울기 계산 비활성화\n",
    "        for data in test_loader:  # 미니배치 단위로 데이터 로드\n",
    "            inputs = data[0]  # 텐서 데이터셋에서 입력 데이터 추출\n",
    "            output = model(inputs)  # 모델을 통해 예측값 계산\n",
    "            predicted_classes = output.argmax(dim=1, keepdim=True)  # 가장 높은 값을 가진 클래스 선택\n",
    "            predictions.append(predicted_classes)  # 예측값 리스트에 추가\n",
    "    return torch.cat(predictions).numpy()  # 리스트를 텐서로 변환하고 numpy 배열로 반환\n",
    "\n",
    "# 모델 예측\n",
    "predictions = predict(model, test_loader)"
   ]
  },
  {
   "cell_type": "code",
   "execution_count": null,
   "id": "b5cffdf7-5559-4862-8e73-cb523fe51d3c",
   "metadata": {},
   "outputs": [],
   "source": [
    "print(predictions.ravel())"
   ]
  },
  {
   "cell_type": "code",
   "execution_count": null,
   "id": "c3acef2f-5b6f-4c72-9c0c-5f534243cd4c",
   "metadata": {},
   "outputs": [],
   "source": [
    "import pandas as pd\n",
    "pd.crosstab(y_test, predictions.ravel())"
   ]
  },
  {
   "cell_type": "markdown",
   "id": "7b08e0fa-127e-449e-bd57-897564e917d7",
   "metadata": {},
   "source": [
    "## 케라스를 이용한 구현"
   ]
  },
  {
   "cell_type": "code",
   "execution_count": null,
   "id": "717aae12",
   "metadata": {},
   "outputs": [],
   "source": [
    "import tensorflow as tf\n",
    "tf.__version__"
   ]
  },
  {
   "cell_type": "code",
   "execution_count": null,
   "id": "metric-tribune",
   "metadata": {
    "ExecuteTime": {
     "end_time": "2023-09-19T07:28:13.638905Z",
     "start_time": "2023-09-19T07:28:13.591374Z"
    }
   },
   "outputs": [],
   "source": [
    "from tensorflow.keras import Sequential, layers\n",
    "model = Sequential([\n",
    "    layers.Input(shape=(4,)),\n",
    "    layers.Dense(50, activation='sigmoid'),\n",
    "    layers.Dense(30, activation='sigmoid'),\n",
    "    layers.Dense(3, activation='softmax')\n",
    "])\n",
    "model.summary()"
   ]
  },
  {
   "cell_type": "code",
   "execution_count": null,
   "id": "answering-production",
   "metadata": {
    "ExecuteTime": {
     "end_time": "2023-09-19T07:28:14.470409Z",
     "start_time": "2023-09-19T07:28:14.414684Z"
    }
   },
   "outputs": [],
   "source": [
    "model.compile(optimizer='adam', \n",
    "              loss='sparse_categorical_crossentropy', \n",
    "              metrics=['accuracy'])"
   ]
  },
  {
   "cell_type": "code",
   "execution_count": null,
   "id": "adjacent-finland",
   "metadata": {
    "ExecuteTime": {
     "end_time": "2023-09-19T07:28:20.964607Z",
     "start_time": "2023-09-19T07:28:15.463919Z"
    },
    "scrolled": true
   },
   "outputs": [],
   "source": [
    "model.fit(X_train, y_train, epochs=300, verbose=1)"
   ]
  },
  {
   "cell_type": "code",
   "execution_count": null,
   "id": "average-delta",
   "metadata": {
    "ExecuteTime": {
     "end_time": "2023-09-19T07:28:21.938950Z",
     "start_time": "2023-09-19T07:28:21.888389Z"
    }
   },
   "outputs": [],
   "source": [
    "model.evaluate(X_test, y_test) # 출력값은 loss와 accuracy"
   ]
  },
  {
   "cell_type": "markdown",
   "id": "8a3df2ab",
   "metadata": {},
   "source": [
    "## 파이토치를 이용한 구현"
   ]
  },
  {
   "cell_type": "code",
   "execution_count": null,
   "id": "bf1c0a6a",
   "metadata": {},
   "outputs": [],
   "source": [
    "# # CPU 버전 설치 (최신 버전)\n",
    "# ! pip install torch\n",
    "\n",
    "# # GPU 지원 버전 설치 (최신 버전)\n",
    "# ! pip install torch torchvision torchaudio -f https://download.pytorch.org/whl/torch_stable.html"
   ]
  },
  {
   "cell_type": "code",
   "execution_count": null,
   "id": "6196df53",
   "metadata": {},
   "outputs": [],
   "source": [
    "import torch\n",
    "print(torch.__version__)"
   ]
  },
  {
   "cell_type": "code",
   "execution_count": null,
   "id": "7a569e66",
   "metadata": {},
   "outputs": [],
   "source": [
    "from sklearn import datasets\n",
    "iris = datasets.load_iris()\n",
    "iris_X = iris.data\n",
    "iris_y = iris.target\n",
    "from sklearn.model_selection import train_test_split\n",
    "X_train, X_test, y_train, y_test = train_test_split(iris_X, iris_y, test_size=0.3,\n",
    "                                                    random_state=1)"
   ]
  },
  {
   "cell_type": "code",
   "execution_count": null,
   "id": "6b1b75a4",
   "metadata": {},
   "outputs": [],
   "source": [
    "import torch\n",
    "import torch.nn as nn\n",
    "\n",
    "# 모델 클래스 정의\n",
    "class CustomModel(nn.Module):\n",
    "    def __init__(self):\n",
    "        super(CustomModel, self).__init__()\n",
    "        self.fc1 = nn.Linear(4, 50)\n",
    "        self.fc2 = nn.Linear(50, 30)\n",
    "        self.fc3 = nn.Linear(30, 3)\n",
    "        self.softmax = nn.Softmax(dim=1)\n",
    "        # 가중치 초기화 (Xavier 초기화)\n",
    "        nn.init.xavier_uniform_(self.fc1.weight)\n",
    "        nn.init.xavier_uniform_(self.fc2.weight)\n",
    "        nn.init.xavier_uniform_(self.fc3.weight)\n",
    "\n",
    "    def forward(self, x):\n",
    "        x = torch.sigmoid(self.fc1(x))\n",
    "        x = torch.sigmoid(self.fc2(x))\n",
    "        x = self.softmax(self.fc3(x))\n",
    "        return x\n",
    "\n",
    "# 모델 생성\n",
    "model = CustomModel()"
   ]
  },
  {
   "cell_type": "code",
   "execution_count": null,
   "id": "a4d6e12e",
   "metadata": {},
   "outputs": [],
   "source": [
    "# 모델 정의를 아래처럼 Sequential을 이용할 수 있음\n",
    "import torch\n",
    "import torch.nn as nn\n",
    "\n",
    "model = nn.Sequential(\n",
    "    nn.Linear(4, 50), nn.Sigmoid(),\n",
    "    nn.Linear(50, 30), nn.Sigmoid(),\n",
    "    nn.Linear(30, 3), nn.Softmax(dim=1)\n",
    ")"
   ]
  },
  {
   "cell_type": "code",
   "execution_count": null,
   "id": "27633ca2",
   "metadata": {},
   "outputs": [],
   "source": [
    "# 손실 함수 및 옵티마이저 정의\n",
    "import torch.optim as optim\n",
    "\n",
    "criterion = nn.CrossEntropyLoss()\n",
    "optimizer = optim.Adam(model.parameters())\n",
    "\n",
    "# 모델 학습\n",
    "for epoch in range(1000):\n",
    "    inputs = torch.from_numpy(X_train).float()\n",
    "    labels = torch.from_numpy(y_train).long()\n",
    "    \n",
    "    optimizer.zero_grad()\n",
    "    outputs = model(inputs)\n",
    "    loss = criterion(outputs, labels)\n",
    "    loss.backward()\n",
    "    optimizer.step()"
   ]
  },
  {
   "cell_type": "code",
   "execution_count": null,
   "id": "e0adfaac",
   "metadata": {},
   "outputs": [],
   "source": [
    "# 모델 평가\n",
    "with torch.no_grad():\n",
    "    inputs = torch.from_numpy(X_test).float()\n",
    "    labels = torch.from_numpy(y_test).long()\n",
    "    outputs = model(inputs)\n",
    "    loss = criterion(outputs, labels)\n",
    "    _, predicted = torch.max(outputs, 1)\n",
    "    accuracy = (predicted == labels).sum().item() / len(y_test)\n",
    "\n",
    "print(f\"Test Loss:{loss.item()}, Test Accuracy:{accuracy}\")"
   ]
  },
  {
   "cell_type": "markdown",
   "id": "09527a9f",
   "metadata": {},
   "source": [
    "### 파이토치의 Sequential 이용"
   ]
  },
  {
   "cell_type": "code",
   "execution_count": null,
   "id": "3db7866c",
   "metadata": {},
   "outputs": [],
   "source": [
    "from sklearn import datasets\n",
    "iris = datasets.load_iris()\n",
    "iris_X = iris.data\n",
    "iris_y = iris.target\n",
    "from sklearn.model_selection import train_test_split\n",
    "X_train, X_test, y_train, y_test = train_test_split(iris_X, iris_y, test_size=0.3,\n",
    "                                                    random_state=1)"
   ]
  },
  {
   "cell_type": "code",
   "execution_count": null,
   "id": "4898cf65",
   "metadata": {},
   "outputs": [],
   "source": [
    "# 넘파이 배열을 토치 텐서로 변환\n",
    "import torch\n",
    "\n",
    "X_train = torch.tensor(X_train, dtype=torch.float32)\n",
    "y_train = torch.tensor(y_train, dtype=torch.int64)\n",
    "X_test = torch.tensor(X_test, dtype=torch.float32)\n",
    "y_test = torch.tensor(y_test, dtype=torch.int64)"
   ]
  },
  {
   "cell_type": "code",
   "execution_count": null,
   "id": "5f8451c6",
   "metadata": {},
   "outputs": [],
   "source": [
    "import numpy as np\n",
    "import torch\n",
    "import torch.nn as nn\n",
    "import torch.optim as optim\n",
    "\n",
    "# 모델 정의\n",
    "model = nn.Sequential(\n",
    "    nn.Linear(4, 50), nn.Sigmoid(),\n",
    "    nn.Linear(50, 30), nn.Sigmoid(),\n",
    "    nn.Linear(30, 3), nn.Softmax(dim=1)\n",
    ")\n",
    "\n",
    "# 가중치 초깃값 지정\n",
    "for layer in model:\n",
    "    if isinstance(layer, nn.Linear):\n",
    "        nn.init.xavier_uniform_(layer.weight)\n",
    "\n",
    "# 손실 함수와 옵티마이저 정의\n",
    "criterion = nn.CrossEntropyLoss()\n",
    "optimizer = optim.Adam(model.parameters())"
   ]
  },
  {
   "cell_type": "code",
   "execution_count": null,
   "id": "6641a970",
   "metadata": {},
   "outputs": [],
   "source": [
    "# 모델 학습\n",
    "for epoch in range(300):\n",
    "    outputs = model(X_train)\n",
    "    loss = criterion(outputs, y_train)\n",
    "    optimizer.zero_grad()\n",
    "    loss.backward()\n",
    "    optimizer.step()\n",
    "\n",
    "# 모델 평가\n",
    "with torch.no_grad():\n",
    "    test_outputs = model(X_test)\n",
    "    _, predicted = torch.max(test_outputs, 1)\n",
    "    accuracy = (predicted == y_test).sum().item() / y_test.size(0)\n",
    "    print(\"Loss: {}, Accuracy: {}\".format(loss.item(), accuracy))"
   ]
  },
  {
   "cell_type": "code",
   "execution_count": null,
   "id": "a621c690",
   "metadata": {},
   "outputs": [],
   "source": []
  }
 ],
 "metadata": {
  "kernelspec": {
   "display_name": "Python 3 (ipykernel)",
   "language": "python",
   "name": "python3"
  },
  "language_info": {
   "codemirror_mode": {
    "name": "ipython",
    "version": 3
   },
   "file_extension": ".py",
   "mimetype": "text/x-python",
   "name": "python",
   "nbconvert_exporter": "python",
   "pygments_lexer": "ipython3",
   "version": "3.9.13"
  },
  "toc": {
   "base_numbering": 1,
   "nav_menu": {},
   "number_sections": true,
   "sideBar": true,
   "skip_h1_title": false,
   "title_cell": "Table of Contents",
   "title_sidebar": "Contents",
   "toc_cell": false,
   "toc_position": {
    "height": "calc(100% - 180px)",
    "left": "10px",
    "top": "150px",
    "width": "384.391px"
   },
   "toc_section_display": true,
   "toc_window_display": false
  },
  "varInspector": {
   "cols": {
    "lenName": 16,
    "lenType": 16,
    "lenVar": 40
   },
   "kernels_config": {
    "python": {
     "delete_cmd_postfix": "",
     "delete_cmd_prefix": "del ",
     "library": "var_list.py",
     "varRefreshCmd": "print(var_dic_list())"
    },
    "r": {
     "delete_cmd_postfix": ") ",
     "delete_cmd_prefix": "rm(",
     "library": "var_list.r",
     "varRefreshCmd": "cat(var_dic_list()) "
    }
   },
   "types_to_exclude": [
    "module",
    "function",
    "builtin_function_or_method",
    "instance",
    "_Feature"
   ],
   "window_display": false
  }
 },
 "nbformat": 4,
 "nbformat_minor": 5
}
